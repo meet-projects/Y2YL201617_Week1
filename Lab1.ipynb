{
 "metadata": {
  "kernelspec": {
   "display_name": "Python [Root]",
   "language": "python",
   "name": "Python [Root]"
  },
  "language_info": {
   "codemirror_mode": {
    "name": "ipython",
    "version": 3
   },
   "file_extension": ".py",
   "mimetype": "text/x-python",
   "name": "python",
   "nbconvert_exporter": "python",
   "pygments_lexer": "ipython3",
   "version": "3.5.2"
  },
  "name": "",
  "signature": "sha256:ea0d40f43df5820f6684b274129d5899c0260276b3b32928a7f12d280d6965f0"
 },
 "nbformat": 3,
 "nbformat_minor": 0,
 "worksheets": [
  {
   "cells": [
    {
     "cell_type": "markdown",
     "metadata": {},
     "source": [
      "Week 1 Activity"
     ]
    },
    {
     "cell_type": "markdown",
     "metadata": {},
     "source": [
      "Today, you will get some practice using [Juptyer](http://jupyter.org/) (commonly known as iPython Notebook) and learning some of the cool features is has."
     ]
    },
    {
     "cell_type": "heading",
     "level": 2,
     "metadata": {},
     "source": [
      "Part 1 - Markdown"
     ]
    },
    {
     "cell_type": "markdown",
     "metadata": {},
     "source": [
      "Markdown is a lightweight markup language with plain text formatting syntax designed so that it can be converted to HTML and many other formats. Markdown is often used to format readme files, for writing messages in online discussion forums, and to create rich text using a plain text editor. You can read more about it [here](https://en.wikipedia.org/wiki/Markdown).  In addition to Python and many other programming languages, iPython notebook supports adding Markdown to make your code and analysis easy to follow.  To insert Markdown into your ipython notebook press the \"ESC\" key twice and then press \"m\". When you are finished, press \"Shift+Enter\" to render the markdown code into text."
     ]
    },
    {
     "cell_type": "markdown",
     "metadata": {},
     "source": [
      "   ## Turn the following Python comment into Markdown code by hitting the 'esc' key twice and then 'm'"
     ]
    },
    {
     "cell_type": "markdown",
     "metadata": {},
     "source": [
      "### Paragraphs\n",
      "\n",
      "# Heading 1\n",
      "## Heading 2\n",
      "### Heading 3\n",
      "#### Heading 4\n",
      "\n",
      "Practice using these headings in the lines below. Use the \"+\" button to add a new line of code.\n"
     ]
    },
    {
     "cell_type": "code",
     "collapsed": false,
     "input": [
      "bar is the queen and you are the netinimmm"
     ],
     "language": "python",
     "metadata": {},
     "outputs": []
    },
    {
     "cell_type": "code",
     "collapsed": false,
     "input": [],
     "language": "python",
     "metadata": {},
     "outputs": []
    },
    {
     "cell_type": "code",
     "collapsed": false,
     "input": [],
     "language": "python",
     "metadata": {},
     "outputs": []
    },
    {
     "cell_type": "code",
     "collapsed": false,
     "input": [],
     "language": "python",
     "metadata": {},
     "outputs": []
    },
    {
     "cell_type": "markdown",
     "metadata": {},
     "source": [
      "\n",
      "\n",
      "## HTML Backwards compatibility\n",
      "\n",
      "Markdown formatting also lets you switch back and forth between traditional markdown and HTML.  I can make something bold with __double underscores__ or by using the <b>B HTML Tag</b>. Practice using this and see if you can figure out how to make italics as well.\n",
      "\n",
      "<i>IM ITALIC PUERTO BENE PIZZA MAMA MIA</i>\n",
      "\n",
      "~~PORTO BENE~~\n"
     ]
    },
    {
     "cell_type": "markdown",
     "metadata": {},
     "source": [
      "## Exploring Documentation\n",
      "\n",
      "Check out the [markdown documentation](https://daringfireball.net/projects/markdown/syntax) and show one other feature of markdown you discovered. Provide an example of it below:"
     ]
    },
    {
     "cell_type": "code",
     "collapsed": true,
     "input": [],
     "language": "python",
     "metadata": {},
     "outputs": [],
     "prompt_number": null
    },
    {
     "cell_type": "code",
     "collapsed": true,
     "input": [],
     "language": "python",
     "metadata": {},
     "outputs": [],
     "prompt_number": null
    },
    {
     "cell_type": "markdown",
     "metadata": {},
     "source": [
      "## Part II: Using Python\n",
      "\n",
      "iPython Notebook is great for Markdown but is mainly used for executing code.  In the line below execute the python code provided by pressing \"Shift+Enter\""
     ]
    },
    {
     "cell_type": "code",
     "collapsed": false,
     "input": [
      "a = \"I'll tell you want I want\"\n",
      "b = \" what I really really want\"\n",
      "c = \"actually i won't\"\n",
      "\n",
      "print (a + ',' + b + c)"
     ],
     "language": "python",
     "metadata": {},
     "outputs": [
      {
       "output_type": "stream",
       "stream": "stdout",
       "text": [
        "I'll tell you want I want, what I really really wantactually i won't\n"
       ]
      }
     ],
     "prompt_number": 6
    },
    {
     "cell_type": "heading",
     "level": 3,
     "metadata": {},
     "source": [
      "Okay, now it's  your turn, remember for loops? Make a list of items of all the things you and your partner have eaten today and loop through printing each item. "
     ]
    },
    {
     "cell_type": "code",
     "collapsed": true,
     "input": [
      "food_items = [\n",
      "\"bizza\",\"ido\",\"weed\",\"milki\",\"a fat boy\"\n",
      "              ]\n",
      "    \n",
      "for item in food_items:\n",
      "    print(item)\n",
      "    \n",
      "    "
     ],
     "language": "python",
     "metadata": {},
     "outputs": [
      {
       "output_type": "stream",
       "stream": "stdout",
       "text": [
        "bizza\n",
        "ido\n",
        "weed\n",
        "milki\n",
        "a fat boy\n"
       ]
      }
     ],
     "prompt_number": 8
    },
    {
     "cell_type": "heading",
     "level": 3,
     "metadata": {},
     "source": [
      "You can even make functions and use them for later"
     ]
    },
    {
     "cell_type": "code",
     "collapsed": true,
     "input": [
      "def flipIt(word):\n",
      "    newwordlst = list(word)\n",
      "    for index, letter in enumerate(list(word)):\n",
      "        newwordlst[len(word)-index-1] = letter\n",
      "    return str(''.join(newwordlst))"
     ],
     "language": "python",
     "metadata": {},
     "outputs": [],
     "prompt_number": 10
    },
    {
     "cell_type": "code",
     "collapsed": false,
     "input": [
      "print(\"your name spelled backwards is \" + str(flipIt(\"a fat boy\")) + \".\")"
     ],
     "language": "python",
     "metadata": {},
     "outputs": [
      {
       "output_type": "stream",
       "stream": "stdout",
       "text": [
        "your name spelled backwards is yob taf a.\n"
       ]
      }
     ],
     "prompt_number": 12
    },
    {
     "cell_type": "heading",
     "level": 3,
     "metadata": {},
     "source": [
      "Make a different function and call it later on in your iPython Notebook"
     ]
    },
    {
     "cell_type": "code",
     "collapsed": true,
     "input": [
      "def bananas(number):\n",
      "    for i in range(number):\n",
      "        print (\"banana\") "
     ],
     "language": "python",
     "metadata": {},
     "outputs": [],
     "prompt_number": 15
    },
    {
     "cell_type": "code",
     "collapsed": true,
     "input": [
      "bananas(5\n",
      "    )\n",
      "bananas(23\n",
      "    )"
     ],
     "language": "python",
     "metadata": {},
     "outputs": [
      {
       "output_type": "stream",
       "stream": "stdout",
       "text": [
        "banana\n",
        "banana\n",
        "banana\n",
        "banana\n",
        "banana\n",
        "banana\n",
        "banana\n",
        "banana\n",
        "banana\n",
        "banana\n",
        "banana\n",
        "banana\n",
        "banana\n",
        "banana\n",
        "banana\n",
        "banana\n",
        "banana\n",
        "banana\n",
        "banana\n",
        "banana\n",
        "banana\n",
        "banana\n",
        "banana\n",
        "banana\n",
        "banana\n",
        "banana\n",
        "banana\n",
        "banana\n"
       ]
      }
     ],
     "prompt_number": 18
    },
    {
     "cell_type": "heading",
     "level": 2,
     "metadata": {},
     "source": [
      "Part III: Y2 Summer Review"
     ]
    },
    {
     "cell_type": "heading",
     "level": 3,
     "metadata": {},
     "source": [
      "What is a Lean Canvas? Why do we use it?  Describe at least 4 of the boxes in the lean canvas and an example of each one."
     ]
    },
    {
     "cell_type": "markdown",
     "metadata": {},
     "source": [
      "#######A Lean Canvas is a organization of a business project where you can organize your project parts and dedicate time and thought \n",
      "######in every part of the project.\n",
      "#####problem: the part that you can explain the main problem you're about to solve.\n",
      "#####solution: what is your idea, how can it solve the problem.\n",
      "#####costumer segmentation: identifying the main costumers that the product is aiming for.\n",
      "#####uvp: the unique value proposition - describes the benefits of the product and the thing you offer."
     ]
    },
    {
     "cell_type": "heading",
     "level": 3,
     "metadata": {},
     "source": [
      "What is the difference between a GET and POST request? When should I use each one?"
     ]
    },
    {
     "cell_type": "code",
     "collapsed": true,
     "input": [
      "#####GET request is when you only want the page \n",
      "##### POST is when you submit a form or information to the website"
     ],
     "language": "python",
     "metadata": {},
     "outputs": [],
     "prompt_number": null
    },
    {
     "cell_type": "heading",
     "level": 3,
     "metadata": {},
     "source": [
      "How are you feeling about Y2 Yearlong? What are some things you would like to get out of this yearlong? "
     ]
    },
    {
     "cell_type": "code",
     "collapsed": true,
     "input": [
      "####I feel like i need coffee really bad\n"
     ],
     "language": "python",
     "metadata": {},
     "outputs": [],
     "prompt_number": 25
    },
    {
     "cell_type": "markdown",
     "metadata": {},
     "source": [
      "Commit your code changes, push to your GitHub Repository and submit a pull request to the original repo. "
     ]
    }
   ],
   "metadata": {}
  }
 ]
}